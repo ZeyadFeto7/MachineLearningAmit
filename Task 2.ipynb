{
 "cells": [
  {
   "cell_type": "markdown",
   "id": "95179a8a",
   "metadata": {},
   "source": [
    "# Question (2)"
   ]
  },
  {
   "cell_type": "code",
   "execution_count": 1,
   "id": "c9f16a92",
   "metadata": {},
   "outputs": [
    {
     "name": "stdout",
     "output_type": "stream",
     "text": [
      "The smallest number is 3\n",
      "The largest number is 300\n"
     ]
    }
   ],
   "source": [
    "x=[20,31,3,45,300,50]\n",
    "x.sort()\n",
    "print(f\"The smallest number is {x[0]}\")\n",
    "print(f\"The largest number is {x[-1]}\")"
   ]
  },
  {
   "cell_type": "markdown",
   "id": "487e7574",
   "metadata": {},
   "source": [
    "# Question (3)"
   ]
  },
  {
   "cell_type": "code",
   "execution_count": 2,
   "id": "3d2603ea",
   "metadata": {},
   "outputs": [
    {
     "name": "stdout",
     "output_type": "stream",
     "text": [
      "Enter Your String : my name is zeyad alaa\n",
      "Enter the character you need to count : a\n"
     ]
    },
    {
     "data": {
      "text/plain": [
       "5"
      ]
     },
     "execution_count": 2,
     "metadata": {},
     "output_type": "execute_result"
    }
   ],
   "source": [
    "z=input(\"Enter Your String : \")\n",
    "L=input(\"Enter the character you need to count : \")\n",
    "z.count(L)"
   ]
  },
  {
   "cell_type": "markdown",
   "id": "87157ee5",
   "metadata": {},
   "source": [
    "# Question (4)"
   ]
  },
  {
   "cell_type": "code",
   "execution_count": 3,
   "id": "14e8e995",
   "metadata": {},
   "outputs": [
    {
     "name": "stdout",
     "output_type": "stream",
     "text": [
      "please enter the sentence : AI is the Future\n",
      "The largest word lenght is 6\n"
     ]
    }
   ],
   "source": [
    "your_sentence = input(\"please enter the sentence : \")\n",
    "your_sentence = your_sentence.split()\n",
    "L=[]\n",
    "for i in your_sentence:\n",
    "    L.append(len(i))\n",
    "L.sort(reverse = True)\n",
    "print(f\"The largest word lenght is {L[0]}\")\n"
   ]
  },
  {
   "cell_type": "markdown",
   "id": "44f0b053",
   "metadata": {},
   "source": [
    "# Question (5)\n"
   ]
  },
  {
   "cell_type": "code",
   "execution_count": 5,
   "id": "c94712c5",
   "metadata": {},
   "outputs": [
    {
     "name": "stdout",
     "output_type": "stream",
     "text": [
      "please enter the lenght of your list : 5\n",
      "please enter your list elements : 12\n",
      "please enter your list elements : 20\n",
      "please enter your list elements : 25\n",
      "please enter your list elements : 30\n",
      "please enter your list elements : 41\n",
      "your list in ascending order is [12, 20, 25, 30, 41]\n",
      "your list in descending order is [41, 30, 25, 20, 12]\n"
     ]
    }
   ],
   "source": [
    "List=[]\n",
    "n=int(input(\"please enter the lenght of your list : \"))\n",
    "for i in range(0,n):\n",
    "    element=int(input(\"please enter your list elements : \"))\n",
    "    List.append(element)\n",
    "List.sort()\n",
    "print(f\"your list in ascending order is {List}\")\n",
    "List.sort(reverse=True)\n",
    "print(f\"your list in descending order is {List}\")"
   ]
  },
  {
   "cell_type": "markdown",
   "id": "3d8637f2",
   "metadata": {},
   "source": [
    "# Question (6)"
   ]
  },
  {
   "cell_type": "code",
   "execution_count": 8,
   "id": "f63d37f7",
   "metadata": {},
   "outputs": [
    {
     "name": "stdout",
     "output_type": "stream",
     "text": [
      "please enter the lenght of your list : 5\n",
      "please enter your list elements : Zeyad\n",
      "please enter your list elements : Zeyad\n",
      "please enter your list elements : Alaa\n",
      "please enter your list elements : Alaa\n",
      "please enter your list elements : Sameh\n",
      "['Zeyad', 'Sameh', 'Alaa']\n"
     ]
    }
   ],
   "source": [
    "List=[]\n",
    "n=int(input(\"please enter the lenght of your list : \"))\n",
    "for i in range(0,n):\n",
    "    element=(input(\"please enter your list elements : \"))\n",
    "    List.append(element)\n",
    "Step=set(List)\n",
    "List=list(Step)\n",
    "print(List)"
   ]
  },
  {
   "cell_type": "markdown",
   "id": "4b9ee51d",
   "metadata": {},
   "source": [
    "# Question (1)"
   ]
  },
  {
   "cell_type": "code",
   "execution_count": 1,
   "id": "f80e2433",
   "metadata": {},
   "outputs": [
    {
     "name": "stdout",
     "output_type": "stream",
     "text": [
      "To calculate the even numbers entered please follow the following steps : \n",
      "Enter how many number you will enter please : 10\n",
      "enter the numbers you want please :20\n",
      "enter the numbers you want please :30\n",
      "enter the numbers you want please :15\n",
      "enter the numbers you want please :10\n",
      "enter the numbers you want please :2\n",
      "enter the numbers you want please :3\n",
      "enter the numbers you want please :6\n",
      "enter the numbers you want please :9\n",
      "enter the numbers you want please :13\n",
      "enter the numbers you want please :12\n",
      "The sum of evens = 80\n"
     ]
    }
   ],
   "source": [
    "no_entered=[]\n",
    "sum_evens=0\n",
    "print(\"To calculate the even numbers entered please follow the following steps : \")\n",
    "n=int(input(\"Enter how many number you will enter please : \"))\n",
    "for i in range(0,n):\n",
    "    numbers=int(input(\"enter the numbers you want please :\"))\n",
    "    no_entered.append(numbers)\n",
    "for z in no_entered:\n",
    "    if z%2==0:\n",
    "        sum_evens=sum_evens+z\n",
    "    else:\n",
    "        continue\n",
    "print(f\"The sum of evens = {sum_evens}\")"
   ]
  },
  {
   "cell_type": "code",
   "execution_count": null,
   "id": "d402fa17",
   "metadata": {},
   "outputs": [],
   "source": []
  }
 ],
 "metadata": {
  "kernelspec": {
   "display_name": "Python 3 (ipykernel)",
   "language": "python",
   "name": "python3"
  },
  "language_info": {
   "codemirror_mode": {
    "name": "ipython",
    "version": 3
   },
   "file_extension": ".py",
   "mimetype": "text/x-python",
   "name": "python",
   "nbconvert_exporter": "python",
   "pygments_lexer": "ipython3",
   "version": "3.10.9"
  }
 },
 "nbformat": 4,
 "nbformat_minor": 5
}
