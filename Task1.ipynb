{
 "cells": [
  {
   "cell_type": "code",
   "execution_count": 3,
   "id": "eec36053",
   "metadata": {},
   "outputs": [
    {
     "name": "stdout",
     "output_type": "stream",
     "text": [
      "To calculate Gravitational Force between 2 masses \n",
      " Please Enter : \n",
      "The first mass value :6\n",
      "The power of 10 in First mass :24\n",
      "The second mass value :7.34\n",
      "The power of 10 in Second mass :22\n",
      "The radius value :3.84\n",
      "The power of 10 in radius :8\n",
      "Gravitational Force =1.9920979817708333e+20\n"
     ]
    }
   ],
   "source": [
    "print(\"To calculate Gravitational Force between 2 masses \\n Please Enter : \")\n",
    "M = float(input(\"The first mass value :\"))\n",
    "x = float(input(\"The power of 10 in First mass :\"))\n",
    "m = float(input(\"The second mass value :\"))\n",
    "y = float(input(\"The power of 10 in Second mass :\"))\n",
    "r = float(input(\"The radius value :\"))\n",
    "z = float(input(\"The power of 10 in radius :\"))\n",
    "G = 6.67*10**-11\n",
    "M = M*10**x\n",
    "m = m*10**y\n",
    "r = r*10**z\n",
    "F = (G*M*m)/(r**2)\n",
    "print(\"Gravitational Force ={}\".format(F))\n"
   ]
  },
  {
   "cell_type": "code",
   "execution_count": null,
   "id": "0aa973c7",
   "metadata": {},
   "outputs": [],
   "source": []
  }
 ],
 "metadata": {
  "kernelspec": {
   "display_name": "Python 3 (ipykernel)",
   "language": "python",
   "name": "python3"
  },
  "language_info": {
   "codemirror_mode": {
    "name": "ipython",
    "version": 3
   },
   "file_extension": ".py",
   "mimetype": "text/x-python",
   "name": "python",
   "nbconvert_exporter": "python",
   "pygments_lexer": "ipython3",
   "version": "3.10.9"
  }
 },
 "nbformat": 4,
 "nbformat_minor": 5
}
